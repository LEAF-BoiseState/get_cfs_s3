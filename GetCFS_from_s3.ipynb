{
 "cells": [
  {
   "cell_type": "code",
   "execution_count": null,
   "id": "73de607f-9f7a-4dad-aa77-fe8647783604",
   "metadata": {},
   "outputs": [],
   "source": [
    "import os\n",
    "import numpy as np\n",
    "import pandas as pd\n",
    "import boto3\n",
    "from botocore import UNSIGNED\n",
    "from botocore.config import Config\n",
    "\n",
    "cfs_dates = ['20190201','20190325','20190420','20190503','20190514','20190614']\n",
    "\n",
    "cfs_aws_bucket = 'noaa-cfs-pds'\n",
    "\n",
    "lead_time = 20\n",
    "\n",
    "def downloadDirectoryFroms3(bucketName, remoteDirectoryName, endDate):\n",
    "    s3_resource = boto3.resource('s3', config=Config(signature_version=UNSIGNED))\n",
    "    bucket = s3_resource.Bucket(bucketName) \n",
    "    for obj in bucket.objects.filter(Prefix = remoteDirectoryName):\n",
    "        if not os.path.exists(os.path.dirname(obj.key)):\n",
    "            os.makedirs(os.path.dirname(obj.key))\n",
    "            \n",
    "        # Get the forecast date and time portion of the file name\n",
    "        file_name = obj.key.partition('/')[-1] # Gets name of GRIB file\n",
    "        if(file_name.find('anl')==-1):\n",
    "            fxst_time = file_name.partition('.')[0][-10:-1] # Gets 10 characters to the left of the first '.'\n",
    "            fxst_time_dt = pd.to_datetime(fxst_time,format='%Y%m%d%H') # Converts this to a date time\n",
    "        \n",
    "        # Compare date time of current file to end date, or see if it's an analysis file\n",
    "        if((fxst_time_dt <= endDate) or (file_name.find('anl')!=-1)): \n",
    "            try:\n",
    "                #bucket.download_file(obj.key, obj.key) # save to same path\n",
    "                print('True: downloaded '+obj.key)\n",
    "            except botocore.exceptions.ClientError as e:\n",
    "                if e.response['Error']['Code'] == \"404\":\n",
    "                    print('File '+obj.key+' does not exist')\n",
    "                else:\n",
    "                    print('Could not download file '+obj.key)\n",
    "        else:\n",
    "            print('False: skipped '+obj.key)\n",
    "            "
   ]
  },
  {
   "cell_type": "code",
   "execution_count": null,
   "id": "c0a29edd-9a71-4a02-b2c5-913358474513",
   "metadata": {},
   "outputs": [],
   "source": [
    "cfs_dates_end_dt = pd.to_datetime(cfs_dates,format='%Y%m%d') + pd.Timedelta(days=lead_time)\n",
    "\n",
    "for i in np.arange(len(cfs_dates)):\n",
    "\n",
    "    cfs_dir_name = 'cfs.'+cfs_dates[i]+'/06/6hrly_grib_01/'\n",
    "    \n",
    "    print('Downloading data from '+cfs_aws_bucket+'::'+cfs_dir_name)\n",
    "\n",
    "    downloadDirectoryFroms3(cfs_aws_bucket, cfs_dir_name, cfs_dates_end_dt[i])\n"
   ]
  },
  {
   "cell_type": "code",
   "execution_count": null,
   "id": "97bcf23d-1794-4756-b747-173a45038501",
   "metadata": {},
   "outputs": [],
   "source": []
  }
 ],
 "metadata": {
  "kernelspec": {
   "display_name": "Python 3 (ipykernel)",
   "language": "python",
   "name": "python3"
  },
  "language_info": {
   "codemirror_mode": {
    "name": "ipython",
    "version": 3
   },
   "file_extension": ".py",
   "mimetype": "text/x-python",
   "name": "python",
   "nbconvert_exporter": "python",
   "pygments_lexer": "ipython3",
   "version": "3.9.7"
  }
 },
 "nbformat": 4,
 "nbformat_minor": 5
}
