{
 "cells": [
  {
   "cell_type": "code",
   "execution_count": 5,
   "id": "73de607f-9f7a-4dad-aa77-fe8647783604",
   "metadata": {},
   "outputs": [],
   "source": [
    "import os\n",
    "import boto3\n",
    "from botocore import UNSIGNED\n",
    "from botocore.config import Config\n",
    "\n",
    "cfs_dates = ['20190201','20190325','20190420','20190503','20190514','20190614']\n",
    "\n",
    "cfs_aws_bucket = 'noaa-cfs-pds'\n",
    "\n",
    "def downloadDirectoryFroms3(bucketName, remoteDirectoryName):\n",
    "    s3_resource = boto3.resource('s3', config=Config(signature_version=UNSIGNED))\n",
    "    bucket = s3_resource.Bucket(bucketName) \n",
    "    for obj in bucket.objects.filter(Prefix = remoteDirectoryName):\n",
    "        if not os.path.exists(os.path.dirname(obj.key)):\n",
    "            os.makedirs(os.path.dirname(obj.key))\n",
    "        bucket.download_file(obj.key, obj.key) # save to same path\n",
    "        print('downloaded '+obj.key)"
   ]
  },
  {
   "cell_type": "code",
   "execution_count": 7,
   "id": "c0a29edd-9a71-4a02-b2c5-913358474513",
   "metadata": {},
   "outputs": [
    {
     "name": "stdout",
     "output_type": "stream",
     "text": [
      "Downloading data from noaa-cfs-pds::cfs.20190201/06/6hrly_grib_01/\n",
      "Downloading data from noaa-cfs-pds::cfs.20190325/06/6hrly_grib_01/\n",
      "Downloading data from noaa-cfs-pds::cfs.20190420/06/6hrly_grib_01/\n",
      "Downloading data from noaa-cfs-pds::cfs.20190503/06/6hrly_grib_01/\n",
      "Downloading data from noaa-cfs-pds::cfs.20190514/06/6hrly_grib_01/\n",
      "Downloading data from noaa-cfs-pds::cfs.20190614/06/6hrly_grib_01/\n"
     ]
    }
   ],
   "source": [
    "for date in cfs_dates:\n",
    "    cfs_dir_name = 'cfs.'+date+'/06/6hrly_grib_01/'\n",
    "    \n",
    "    print('Downloading data from '+cfs_aws_bucket+'::'+cfs_dir_name)\n",
    "\n",
    "    downloadDirectoryFroms3(cfs_aws_bucket, cfs_dir_name)\n"
   ]
  }
 ],
 "metadata": {
  "kernelspec": {
   "display_name": "Python 3 (ipykernel)",
   "language": "python",
   "name": "python3"
  },
  "language_info": {
   "codemirror_mode": {
    "name": "ipython",
    "version": 3
   },
   "file_extension": ".py",
   "mimetype": "text/x-python",
   "name": "python",
   "nbconvert_exporter": "python",
   "pygments_lexer": "ipython3",
   "version": "3.9.7"
  }
 },
 "nbformat": 4,
 "nbformat_minor": 5
}
